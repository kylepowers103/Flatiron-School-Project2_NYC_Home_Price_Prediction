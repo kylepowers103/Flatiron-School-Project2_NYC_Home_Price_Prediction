{
 "cells": [
  {
   "cell_type": "code",
   "execution_count": 1,
   "metadata": {},
   "outputs": [],
   "source": [
    "import pandas as pd\n",
    "\n",
    "import statsmodels.api as sm\n",
    "from statsmodels.formula.api import ols\n",
    "import matplotlib.pyplot as plt"
   ]
  },
  {
   "cell_type": "code",
   "execution_count": 72,
   "metadata": {},
   "outputs": [
    {
     "name": "stdout",
     "output_type": "stream",
     "text": [
      "<class 'pandas.core.frame.DataFrame'>\n",
      "Int64Index: 810 entries, 0 to 12848\n",
      "Data columns (total 21 columns):\n",
      "BOROUGH                           810 non-null int64\n",
      "NEIGHBORHOOD                      810 non-null object\n",
      "BUILDING_CLASS_CATEGORY           810 non-null object\n",
      "TAX_CLASS_AT_PRESENT              810 non-null object\n",
      "BLOCK                             810 non-null int64\n",
      "LOT                               810 non-null int64\n",
      "EASE-MENT                         810 non-null object\n",
      "BUILDING_CLASS_AT_PRESENT         810 non-null object\n",
      "ADDRESS                           810 non-null object\n",
      "APARTMENT_NUMBER                  810 non-null object\n",
      "ZIP_CODE                          810 non-null int64\n",
      "RESIDENTIAL_UNITS                 810 non-null int64\n",
      "COMMERCIAL_UNITS                  810 non-null int64\n",
      "TOTAL_UNITS                       810 non-null int64\n",
      "LAND_SQUARE_FEET                  810 non-null int64\n",
      "GROSS_SQUARE_FEET                 810 non-null int64\n",
      "YEAR_BUILT                        810 non-null int64\n",
      "TAX_CLASS_AT_TIME_OF_SALE         810 non-null int64\n",
      "BUILDING_CLASS_AT_TIME_OF_SALE    810 non-null object\n",
      "SALE_PRICE                        810 non-null int64\n",
      "SALE_DATE                         810 non-null datetime64[ns]\n",
      "dtypes: datetime64[ns](1), int64(12), object(8)\n",
      "memory usage: 139.2+ KB\n"
     ]
    }
   ],
   "source": [
    "data=pd.read_excel(\"rollingsales_manhattan.xls\", skiprows=1)\n",
    "data = data[data['SALE_PRICE'] > 100] #get rid of 0's in sale price \n",
    "data=data[data['GROSS SQUARE FEET'] > 100]\n",
    "data.columns=['BOROUGH', 'NEIGHBORHOOD', 'BUILDING_CLASS_CATEGORY',\n",
    "       'TAX_CLASS_AT_PRESENT', 'BLOCK', 'LOT', 'EASE-MENT',\n",
    "       'BUILDING_CLASS_AT_PRESENT', 'ADDRESS', 'APARTMENT_NUMBER', 'ZIP_CODE',\n",
    "       'RESIDENTIAL_UNITS', 'COMMERCIAL_UNITS', 'TOTAL_UNITS',\n",
    "       'LAND_SQUARE_FEET', 'GROSS_SQUARE_FEET', 'YEAR_BUILT',\n",
    "       'TAX_CLASS_AT_TIME_OF_SALE', 'BUILDING_CLASS_AT_TIME_OF_SALE',\n",
    "       'SALE_PRICE', 'SALE_DATE']\n",
    "data.columns\n",
    "data.info()"
   ]
  },
  {
   "cell_type": "code",
   "execution_count": null,
   "metadata": {},
   "outputs": [],
   "source": []
  },
  {
   "cell_type": "code",
   "execution_count": 57,
   "metadata": {},
   "outputs": [],
   "source": [
    "# data.info()\n",
    "# data.dropna()\n",
    "# data['SALE_PRICE'] = data['SALE_PRICE']\n",
    "# carl=data['SALE_PRICE']\n",
    "# # data['SALE_PRICE']\n",
    "# # data\n",
    "# data = data.drop(0,axis=0)\n",
    "# data['GROSS SQUARE FEET'] > 0]   #830 entries\n",
    "# data[data['LAND SQUARE FEET'] > 0] # 863 entries \n",
    "# data.columns"
   ]
  },
  {
   "cell_type": "code",
   "execution_count": null,
   "metadata": {},
   "outputs": [],
   "source": []
  },
  {
   "cell_type": "code",
   "execution_count": null,
   "metadata": {},
   "outputs": [],
   "source": []
  },
  {
   "cell_type": "code",
   "execution_count": 74,
   "metadata": {},
   "outputs": [],
   "source": [
    "import pandas as pd\n",
    "import matplotlib.pyplot as plt\n",
    "import statsmodels.api as sm\n",
    "import statsmodels.formula.api as smf\n",
    "import scipy.stats as stats\n",
    "plt.style.use('fivethirtyeight')\n",
    "\n",
    "data = data\n",
    "f = 'SALE_PRICE~GROSS_SQUARE_FEET'\n",
    "model = smf.ols(formula=f, data=data).fit()\n",
    "model.summary()"
   ]
  },
  {
   "cell_type": "code",
   "execution_count": 77,
   "metadata": {},
   "outputs": [],
   "source": [
    "# data.plot.kde()\n",
    "# plt.title(\"Normality check\")\n",
    "# plt.show()\n",
    "    "
   ]
  },
  {
   "cell_type": "code",
   "execution_count": 78,
   "metadata": {},
   "outputs": [
    {
     "data": {
      "text/html": [
       "<table class=\"simpletable\">\n",
       "<caption>OLS Regression Results</caption>\n",
       "<tr>\n",
       "  <th>Dep. Variable:</th>       <td>SALE_PRICE</td>    <th>  R-squared:         </th> <td>   0.534</td> \n",
       "</tr>\n",
       "<tr>\n",
       "  <th>Model:</th>                   <td>OLS</td>       <th>  Adj. R-squared:    </th> <td>   0.533</td> \n",
       "</tr>\n",
       "<tr>\n",
       "  <th>Method:</th>             <td>Least Squares</td>  <th>  F-statistic:       </th> <td>   926.0</td> \n",
       "</tr>\n",
       "<tr>\n",
       "  <th>Date:</th>             <td>Tue, 04 Dec 2018</td> <th>  Prob (F-statistic):</th> <td>3.99e-136</td>\n",
       "</tr>\n",
       "<tr>\n",
       "  <th>Time:</th>                 <td>10:02:08</td>     <th>  Log-Likelihood:    </th> <td> -15859.</td> \n",
       "</tr>\n",
       "<tr>\n",
       "  <th>No. Observations:</th>      <td>   810</td>      <th>  AIC:               </th> <td>3.172e+04</td>\n",
       "</tr>\n",
       "<tr>\n",
       "  <th>Df Residuals:</th>          <td>   808</td>      <th>  BIC:               </th> <td>3.173e+04</td>\n",
       "</tr>\n",
       "<tr>\n",
       "  <th>Df Model:</th>              <td>     1</td>      <th>                     </th>     <td> </td>    \n",
       "</tr>\n",
       "<tr>\n",
       "  <th>Covariance Type:</th>      <td>nonrobust</td>    <th>                     </th>     <td> </td>    \n",
       "</tr>\n",
       "</table>\n",
       "<table class=\"simpletable\">\n",
       "<tr>\n",
       "          <td></td>             <th>coef</th>     <th>std err</th>      <th>t</th>      <th>P>|t|</th>  <th>[0.025</th>    <th>0.975]</th>  \n",
       "</tr>\n",
       "<tr>\n",
       "  <th>Intercept</th>         <td>  1.81e+06</td> <td> 2.83e+06</td> <td>    0.640</td> <td> 0.523</td> <td>-3.74e+06</td> <td> 7.37e+06</td>\n",
       "</tr>\n",
       "<tr>\n",
       "  <th>GROSS_SQUARE_FEET</th> <td>  799.3652</td> <td>   26.269</td> <td>   30.431</td> <td> 0.000</td> <td>  747.803</td> <td>  850.928</td>\n",
       "</tr>\n",
       "</table>\n",
       "<table class=\"simpletable\">\n",
       "<tr>\n",
       "  <th>Omnibus:</th>       <td>1328.003</td> <th>  Durbin-Watson:     </th>  <td>   0.872</td>  \n",
       "</tr>\n",
       "<tr>\n",
       "  <th>Prob(Omnibus):</th>  <td> 0.000</td>  <th>  Jarque-Bera (JB):  </th> <td>1723352.626</td>\n",
       "</tr>\n",
       "<tr>\n",
       "  <th>Skew:</th>           <td> 9.571</td>  <th>  Prob(JB):          </th>  <td>    0.00</td>  \n",
       "</tr>\n",
       "<tr>\n",
       "  <th>Kurtosis:</th>       <td>228.157</td> <th>  Cond. No.          </th>  <td>1.13e+05</td>  \n",
       "</tr>\n",
       "</table><br/><br/>Warnings:<br/>[1] Standard Errors assume that the covariance matrix of the errors is correctly specified.<br/>[2] The condition number is large, 1.13e+05. This might indicate that there are<br/>strong multicollinearity or other numerical problems."
      ],
      "text/plain": [
       "<class 'statsmodels.iolib.summary.Summary'>\n",
       "\"\"\"\n",
       "                            OLS Regression Results                            \n",
       "==============================================================================\n",
       "Dep. Variable:             SALE_PRICE   R-squared:                       0.534\n",
       "Model:                            OLS   Adj. R-squared:                  0.533\n",
       "Method:                 Least Squares   F-statistic:                     926.0\n",
       "Date:                Tue, 04 Dec 2018   Prob (F-statistic):          3.99e-136\n",
       "Time:                        10:02:08   Log-Likelihood:                -15859.\n",
       "No. Observations:                 810   AIC:                         3.172e+04\n",
       "Df Residuals:                     808   BIC:                         3.173e+04\n",
       "Df Model:                           1                                         \n",
       "Covariance Type:            nonrobust                                         \n",
       "=====================================================================================\n",
       "                        coef    std err          t      P>|t|      [0.025      0.975]\n",
       "-------------------------------------------------------------------------------------\n",
       "Intercept           1.81e+06   2.83e+06      0.640      0.523   -3.74e+06    7.37e+06\n",
       "GROSS_SQUARE_FEET   799.3652     26.269     30.431      0.000     747.803     850.928\n",
       "==============================================================================\n",
       "Omnibus:                     1328.003   Durbin-Watson:                   0.872\n",
       "Prob(Omnibus):                  0.000   Jarque-Bera (JB):          1723352.626\n",
       "Skew:                           9.571   Prob(JB):                         0.00\n",
       "Kurtosis:                     228.157   Cond. No.                     1.13e+05\n",
       "==============================================================================\n",
       "\n",
       "Warnings:\n",
       "[1] Standard Errors assume that the covariance matrix of the errors is correctly specified.\n",
       "[2] The condition number is large, 1.13e+05. This might indicate that there are\n",
       "strong multicollinearity or other numerical problems.\n",
       "\"\"\""
      ]
     },
     "execution_count": 78,
     "metadata": {},
     "output_type": "execute_result"
    }
   ],
   "source": []
  },
  {
   "cell_type": "code",
   "execution_count": null,
   "metadata": {},
   "outputs": [],
   "source": []
  },
  {
   "cell_type": "code",
   "execution_count": null,
   "metadata": {},
   "outputs": [],
   "source": []
  },
  {
   "cell_type": "code",
   "execution_count": null,
   "metadata": {},
   "outputs": [],
   "source": []
  },
  {
   "cell_type": "code",
   "execution_count": null,
   "metadata": {},
   "outputs": [],
   "source": []
  },
  {
   "cell_type": "code",
   "execution_count": null,
   "metadata": {},
   "outputs": [],
   "source": []
  },
  {
   "cell_type": "code",
   "execution_count": null,
   "metadata": {},
   "outputs": [],
   "source": []
  },
  {
   "cell_type": "code",
   "execution_count": null,
   "metadata": {},
   "outputs": [],
   "source": []
  }
 ],
 "metadata": {
  "kernelspec": {
   "display_name": "Python 3",
   "language": "python",
   "name": "python3"
  },
  "language_info": {
   "codemirror_mode": {
    "name": "ipython",
    "version": 3
   },
   "file_extension": ".py",
   "mimetype": "text/x-python",
   "name": "python",
   "nbconvert_exporter": "python",
   "pygments_lexer": "ipython3",
   "version": "3.7.0"
  }
 },
 "nbformat": 4,
 "nbformat_minor": 2
}
